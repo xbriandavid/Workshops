{
  "nbformat": 4,
  "nbformat_minor": 0,
  "metadata": {
    "anaconda-cloud": {},
    "kernelspec": {
      "display_name": "Python [default]",
      "language": "python",
      "name": "python3"
    },
    "language_info": {
      "codemirror_mode": {
        "name": "ipython",
        "version": 3
      },
      "file_extension": ".py",
      "mimetype": "text/x-python",
      "name": "python",
      "nbconvert_exporter": "python",
      "pygments_lexer": "ipython3",
      "version": "3.5.6"
    },
    "colab": {
      "name": "water_quality_prep.ipynb",
      "provenance": [],
      "include_colab_link": true
    }
  },
  "cells": [
    {
      "cell_type": "markdown",
      "metadata": {
        "id": "view-in-github",
        "colab_type": "text"
      },
      "source": [
        "<a href=\"https://colab.research.google.com/github/xbriandavid/Workshops/blob/master/water_quality_prep.ipynb\" target=\"_parent\"><img src=\"https://colab.research.google.com/assets/colab-badge.svg\" alt=\"Open In Colab\"/></a>"
      ]
    },
    {
      "cell_type": "markdown",
      "metadata": {
        "id": "tCsOdguCkgi9",
        "colab_type": "text"
      },
      "source": [
        "# Cleaning and Organizing the Data from U.S.G.S."
      ]
    },
    {
      "cell_type": "markdown",
      "metadata": {
        "id": "gzT4CzJpkgjA",
        "colab_type": "text"
      },
      "source": [
        "Throughout the data wrangling process, we utilized the Pandas package. The dataset was queried on the USGS' website: https://sfbay.wr.usgs.gov/access/wqdata/index.html . This website provides extensive data on the water quality of the San Francisco Bay and lays out the entirety of the data that we analyzed. The site contains years of information for which we selected a subset of years that are more recent and relevant (2014 - 2018). Each querry is based on a year, such that a  querry was made for water quality in the year 2014, water quality in the year 2015, and so on. Afterwards, the query was completed with a download of its excel file. For my convenience, I had created one excel file, \"Main Data\", that contains 4 sheets: 2014-2015, 2016, 2017, and 2018 water quality data. "
      ]
    },
    {
      "cell_type": "markdown",
      "metadata": {
        "id": "OlGKQoyx1LEg",
        "colab_type": "text"
      },
      "source": [
        "\n",
        "\n",
        "---\n",
        "\n"
      ]
    },
    {
      "cell_type": "code",
      "metadata": {
        "id": "iNHiqfKpkgjC",
        "colab_type": "code",
        "colab": {}
      },
      "source": [
        "import pandas as pd\n",
        "data = pd.ExcelFile(\"file:///C:/Users/Brian/Desktop/MAIN/DATA for ML/SFBay_WaterQuality2014-208.xlsx\")\n",
        "tabnames = data.sheet_names\n",
        "quality_201415 = data.parse(sheet_name = tabnames[0], skiprows=0)\n",
        "quality_2016 = data.parse(sheet_name = tabnames[1], skiprows=0)\n",
        "quality_2017 = data.parse(sheet_name = tabnames[2], skiprows=0)\n",
        "quality_2018 = data.parse(sheet_name = tabnames[3], skiprows=0)\n"
      ],
      "execution_count": 0,
      "outputs": []
    },
    {
      "cell_type": "markdown",
      "metadata": {
        "id": "u2Ae2OUlkgjG",
        "colab_type": "text"
      },
      "source": [
        "Let's print the head of the \"quality_2018\" data frame. There are 22 columns in the dataset. Furthermore, some of the units of the columns (let's refer them to constituents) are placed in another row. Let's clean that up. "
      ]
    },
    {
      "cell_type": "code",
      "metadata": {
        "id": "dSQxQaeHkgjI",
        "colab_type": "code",
        "outputId": "09ff7c5c-acc9-403b-cbe7-8d75984b5d2d",
        "colab": {}
      },
      "source": [
        "quality_2018.head()"
      ],
      "execution_count": 0,
      "outputs": [
        {
          "output_type": "execute_result",
          "data": {
            "text/html": [
              "<div>\n",
              "<style scoped>\n",
              "    .dataframe tbody tr th:only-of-type {\n",
              "        vertical-align: middle;\n",
              "    }\n",
              "\n",
              "    .dataframe tbody tr th {\n",
              "        vertical-align: top;\n",
              "    }\n",
              "\n",
              "    .dataframe thead th {\n",
              "        text-align: right;\n",
              "    }\n",
              "</style>\n",
              "<table border=\"1\" class=\"dataframe\">\n",
              "  <thead>\n",
              "    <tr style=\"text-align: right;\">\n",
              "      <th></th>\n",
              "      <th>Date</th>\n",
              "      <th>Station Number</th>\n",
              "      <th>Depth</th>\n",
              "      <th>Discrete Chlorophyll</th>\n",
              "      <th>Chlorophyll a/a+PHA</th>\n",
              "      <th>Fluorescence</th>\n",
              "      <th>Calculated Chlorophyll</th>\n",
              "      <th>Discrete Oxygen</th>\n",
              "      <th>Oxygen Electrode Output</th>\n",
              "      <th>Oxygen Saturation %</th>\n",
              "      <th>...</th>\n",
              "      <th>Optical Backscatter</th>\n",
              "      <th>Calculated SPM</th>\n",
              "      <th>Measured Extinction Coefficient</th>\n",
              "      <th>Salinity</th>\n",
              "      <th>Temperature</th>\n",
              "      <th>Nitrite</th>\n",
              "      <th>Nitrate + Nitrite</th>\n",
              "      <th>Ammonium</th>\n",
              "      <th>Phosphate</th>\n",
              "      <th>Silicate</th>\n",
              "    </tr>\n",
              "  </thead>\n",
              "  <tbody>\n",
              "    <tr>\n",
              "      <th>0</th>\n",
              "      <td>MM/DD/YYYY</td>\n",
              "      <td>NaN</td>\n",
              "      <td>[meters]</td>\n",
              "      <td>[mg/m3]</td>\n",
              "      <td>NaN</td>\n",
              "      <td>[volts]</td>\n",
              "      <td>[mg/m3]</td>\n",
              "      <td>[mg/L]</td>\n",
              "      <td>[volts]</td>\n",
              "      <td>NaN</td>\n",
              "      <td>...</td>\n",
              "      <td>[volts]</td>\n",
              "      <td>[mg/L]</td>\n",
              "      <td>[per meter]</td>\n",
              "      <td>[psu]</td>\n",
              "      <td>[°C]</td>\n",
              "      <td>[µM]</td>\n",
              "      <td>[µM]</td>\n",
              "      <td>[µM]</td>\n",
              "      <td>[µM]</td>\n",
              "      <td>[µM]</td>\n",
              "    </tr>\n",
              "    <tr>\n",
              "      <th>1</th>\n",
              "      <td>2018-01-10 00:00:00</td>\n",
              "      <td>36.0</td>\n",
              "      <td>1</td>\n",
              "      <td>NaN</td>\n",
              "      <td>NaN</td>\n",
              "      <td>0.55</td>\n",
              "      <td>4.9</td>\n",
              "      <td>NaN</td>\n",
              "      <td>8.2</td>\n",
              "      <td>88.0</td>\n",
              "      <td>...</td>\n",
              "      <td>2.39</td>\n",
              "      <td>98</td>\n",
              "      <td>NaN</td>\n",
              "      <td>23.4</td>\n",
              "      <td>11.96</td>\n",
              "      <td>NaN</td>\n",
              "      <td>NaN</td>\n",
              "      <td>NaN</td>\n",
              "      <td>NaN</td>\n",
              "      <td>NaN</td>\n",
              "    </tr>\n",
              "    <tr>\n",
              "      <th>2</th>\n",
              "      <td>2018-01-10 00:00:00</td>\n",
              "      <td>36.0</td>\n",
              "      <td>2</td>\n",
              "      <td>4.2</td>\n",
              "      <td>0.51</td>\n",
              "      <td>0.46</td>\n",
              "      <td>4.1</td>\n",
              "      <td>NaN</td>\n",
              "      <td>8.2</td>\n",
              "      <td>89.0</td>\n",
              "      <td>...</td>\n",
              "      <td>2.6</td>\n",
              "      <td>107</td>\n",
              "      <td>NaN</td>\n",
              "      <td>23.54</td>\n",
              "      <td>11.97</td>\n",
              "      <td>2.66</td>\n",
              "      <td>76.39</td>\n",
              "      <td>13.42</td>\n",
              "      <td>6.97</td>\n",
              "      <td>110.84</td>\n",
              "    </tr>\n",
              "    <tr>\n",
              "      <th>3</th>\n",
              "      <td>2018-01-10 00:00:00</td>\n",
              "      <td>36.0</td>\n",
              "      <td>3</td>\n",
              "      <td>NaN</td>\n",
              "      <td>NaN</td>\n",
              "      <td>0.43</td>\n",
              "      <td>3.9</td>\n",
              "      <td>NaN</td>\n",
              "      <td>8.2</td>\n",
              "      <td>89.0</td>\n",
              "      <td>...</td>\n",
              "      <td>3.01</td>\n",
              "      <td>124</td>\n",
              "      <td>NaN</td>\n",
              "      <td>24.26</td>\n",
              "      <td>11.96</td>\n",
              "      <td>NaN</td>\n",
              "      <td>NaN</td>\n",
              "      <td>NaN</td>\n",
              "      <td>NaN</td>\n",
              "      <td>NaN</td>\n",
              "    </tr>\n",
              "    <tr>\n",
              "      <th>4</th>\n",
              "      <td>2018-01-10 00:00:00</td>\n",
              "      <td>36.0</td>\n",
              "      <td>4</td>\n",
              "      <td>NaN</td>\n",
              "      <td>NaN</td>\n",
              "      <td>0.46</td>\n",
              "      <td>4.1</td>\n",
              "      <td>NaN</td>\n",
              "      <td>8.2</td>\n",
              "      <td>89.0</td>\n",
              "      <td>...</td>\n",
              "      <td>5.12</td>\n",
              "      <td>213</td>\n",
              "      <td>NaN</td>\n",
              "      <td>24.36</td>\n",
              "      <td>11.97</td>\n",
              "      <td>NaN</td>\n",
              "      <td>NaN</td>\n",
              "      <td>NaN</td>\n",
              "      <td>NaN</td>\n",
              "      <td>NaN</td>\n",
              "    </tr>\n",
              "  </tbody>\n",
              "</table>\n",
              "<p>5 rows × 22 columns</p>\n",
              "</div>"
            ],
            "text/plain": [
              "                  Date  Station Number     Depth Discrete Chlorophyll  \\\n",
              "0           MM/DD/YYYY             NaN  [meters]              [mg/m3]   \n",
              "1  2018-01-10 00:00:00            36.0         1                  NaN   \n",
              "2  2018-01-10 00:00:00            36.0         2                  4.2   \n",
              "3  2018-01-10 00:00:00            36.0         3                  NaN   \n",
              "4  2018-01-10 00:00:00            36.0         4                  NaN   \n",
              "\n",
              "   Chlorophyll a/a+PHA Fluorescence Calculated Chlorophyll Discrete Oxygen  \\\n",
              "0                  NaN      [volts]                [mg/m3]          [mg/L]   \n",
              "1                  NaN         0.55                    4.9             NaN   \n",
              "2                 0.51         0.46                    4.1             NaN   \n",
              "3                  NaN         0.43                    3.9             NaN   \n",
              "4                  NaN         0.46                    4.1             NaN   \n",
              "\n",
              "  Oxygen Electrode Output  Oxygen Saturation %   ...    Optical Backscatter  \\\n",
              "0                 [volts]                  NaN   ...                [volts]   \n",
              "1                     8.2                 88.0   ...                   2.39   \n",
              "2                     8.2                 89.0   ...                    2.6   \n",
              "3                     8.2                 89.0   ...                   3.01   \n",
              "4                     8.2                 89.0   ...                   5.12   \n",
              "\n",
              "  Calculated SPM Measured Extinction Coefficient Salinity Temperature Nitrite  \\\n",
              "0         [mg/L]                     [per meter]    [psu]        [°C]    [µM]   \n",
              "1             98                             NaN     23.4       11.96     NaN   \n",
              "2            107                             NaN    23.54       11.97    2.66   \n",
              "3            124                             NaN    24.26       11.96     NaN   \n",
              "4            213                             NaN    24.36       11.97     NaN   \n",
              "\n",
              "  Nitrate + Nitrite Ammonium Phosphate Silicate  \n",
              "0              [µM]     [µM]      [µM]     [µM]  \n",
              "1               NaN      NaN       NaN      NaN  \n",
              "2             76.39    13.42      6.97   110.84  \n",
              "3               NaN      NaN       NaN      NaN  \n",
              "4               NaN      NaN       NaN      NaN  \n",
              "\n",
              "[5 rows x 22 columns]"
            ]
          },
          "metadata": {
            "tags": []
          },
          "execution_count": 3
        }
      ]
    }
  ]
}